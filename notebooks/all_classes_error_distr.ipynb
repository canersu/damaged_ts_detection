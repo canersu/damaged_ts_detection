{
 "cells": [
  {
   "cell_type": "code",
   "execution_count": 1,
   "metadata": {},
   "outputs": [
    {
     "name": "stderr",
     "output_type": "stream",
     "text": [
      "2023-01-28 14:40:12.766600: I tensorflow/core/platform/cpu_feature_guard.cc:193] This TensorFlow binary is optimized with oneAPI Deep Neural Network Library (oneDNN) to use the following CPU instructions in performance-critical operations:  AVX2 FMA\n",
      "To enable them in other operations, rebuild TensorFlow with the appropriate compiler flags.\n",
      "2023-01-28 14:40:13.311753: E tensorflow/stream_executor/cuda/cuda_blas.cc:2981] Unable to register cuBLAS factory: Attempting to register factory for plugin cuBLAS when one has already been registered\n",
      "2023-01-28 14:40:14.570017: W tensorflow/stream_executor/platform/default/dso_loader.cc:64] Could not load dynamic library 'libnvinfer.so.7'; dlerror: libnvinfer.so.7: cannot open shared object file: No such file or directory\n",
      "2023-01-28 14:40:14.570138: W tensorflow/stream_executor/platform/default/dso_loader.cc:64] Could not load dynamic library 'libnvinfer_plugin.so.7'; dlerror: libnvinfer_plugin.so.7: cannot open shared object file: No such file or directory\n",
      "2023-01-28 14:40:14.570151: W tensorflow/compiler/tf2tensorrt/utils/py_utils.cc:38] TF-TRT Warning: Cannot dlopen some TensorRT libraries. If you would like to use Nvidia GPU with TensorRT, please make sure the missing libraries mentioned above are installed properly.\n"
     ]
    }
   ],
   "source": [
    "import ae\n",
    "import tensorflow as tf\n",
    "import os\n",
    "import seaborn as sns\n",
    "import numpy as np\n",
    "from PIL import Image\n",
    "import matplotlib.pyplot as plt\n",
    "from audioop import rms\n",
    "from matplotlib.pyplot import ylabel\n",
    "import warnings\n",
    "warnings.simplefilter(action='ignore', category=FutureWarning)"
   ]
  },
  {
   "cell_type": "code",
   "execution_count": 2,
   "metadata": {},
   "outputs": [],
   "source": [
    "def testset(test_path, model, dmg=False):\n",
    "    ae_test = ae.autoEncoder()\n",
    "    data = []\n",
    "    names = []\n",
    "    imgHeight = 48\n",
    "    imgWidth = 48\n",
    "    imgChannel = 3\n",
    "    img_shape = (imgHeight, imgWidth, imgChannel)\n",
    "    ts_db = os.path.join(test_path)\n",
    "    for img in os.listdir(ts_db):\n",
    "        image = Image.open(os.path.join(ts_db, img)).convert('RGB')\n",
    "        image = image.resize((imgHeight,imgWidth))\n",
    "        image = np.array(image)\n",
    "        image = image/255.0\n",
    "        data.append(image)\n",
    "        if dmg:\n",
    "            names.append(img)\n",
    "    test_data = np.array(data)\n",
    "    gen = model.predict(test_data)\n",
    "    tensor_test = tf.convert_to_tensor(test_data, dtype=tf.float32)\n",
    "    ssim_vals = []\n",
    "    psnr_vals = []\n",
    "    rmse_vals = []\n",
    "    mre_vals = []\n",
    "    for i in range(len(test_data)):\n",
    "        ssim_val = ae_test.compMetric(tensor_test[i], gen[i], \"SSIM\")\n",
    "        psnr_val = ae_test.compMetric(tensor_test[i], gen[i], \"PSNR\")\n",
    "        rmse_val = ae_test.compMetric(tensor_test[i], gen[i], \"RMSE\")\n",
    "        mre_val = ae_test.compMetric(tensor_test[i], gen[i], \"MRE\")\n",
    "\n",
    "        ssim_vals.append(ssim_val)\n",
    "        psnr_vals.append(psnr_val/255.0)\n",
    "        rmse_vals.append(rmse_val)\n",
    "        mre_vals.append(mre_val)\n",
    "\n",
    "        if dmg:\n",
    "            print('Image',names[i],'ssim: ',float(ssim_val),' psnr: ', float(psnr_val/255.0), ' rmse: ', float(rmse_val), ' mre: ', mre_val)\n",
    "\n",
    "    if dmg == False:\n",
    "        print(\"#Instances: \", len(ssim_vals))\n",
    "    return ssim_vals, psnr_vals, rmse_vals, mre_vals\n",
    "\n",
    "def visualize(ssim_vals, psnr_vals, rmse_vals, mre_vals, sign):\n",
    "    std_ssim = np.std(ssim_vals)\n",
    "    mean_ssim = np.mean(ssim_vals)\n",
    "\n",
    "    std_psnr = np.std(psnr_vals)\n",
    "    mean_psnr = np.mean(psnr_vals)\n",
    "\n",
    "    std_rmse = np.std(rmse_vals)\n",
    "    mean_rmse = np.mean(rmse_vals)\n",
    "\n",
    "    std_mre = np.std(mre_vals)\n",
    "    mean_mre = np.mean(mre_vals)\n",
    "\n",
    "\n",
    "    fig, axes = plt.subplots(2, 2, figsize=(20, 20))\n",
    "    fig.suptitle('Image Comparison Metrics Distributions of Sign '+sign)\n",
    "\n",
    "\n",
    "    ax = sns.distplot(ssim_vals, hist=True, kde=True, ax=axes[0,0],\n",
    "                color = 'darkblue',\n",
    "                hist_kws={'edgecolor':'black'},\n",
    "                kde_kws={'linewidth': 4, 'color': 'orange'})\n",
    "\n",
    "    ax.set(xlabel = 'SSIM Distance', ylabel = \"#Instances\")\n",
    "\n",
    "    print(\"ssim mean: \", mean_ssim, \" ssim \\u03C3: \", std_ssim, \" ssim \\u03BC+\\u03C3: \", std_ssim+mean_ssim)\n",
    "    print(\"ssim \\u03BC+1.5\\u03C3: \", (1.5)*std_ssim+mean_ssim, \" ssim \\u03BC+2\\u03C3: \", (2.0)*std_ssim+mean_ssim)\n",
    "    ax.axvline(mean_ssim, color='red', linewidth=2)\n",
    "    ax.axvline(std_ssim+mean_ssim, color='green', linewidth=2)\n",
    "    ax.axvline((1.5)*std_ssim+mean_ssim, color='yellow', linewidth=2)\n",
    "    ax.axvline((2.0)*std_ssim+mean_ssim, color='purple', linewidth=2)\n",
    "\n",
    "\n",
    "    ax = sns.distplot(psnr_vals, hist=True, kde=True, ax=axes[0,1],\n",
    "                color = 'darkblue',\n",
    "                hist_kws={'edgecolor':'black'},\n",
    "                kde_kws={'linewidth': 4, 'color': 'orange'})\n",
    "\n",
    "    ax.set(xlabel = 'PSNR Distance', ylabel = \"#Instances\")\n",
    "    print(\"psnr mean: \", mean_psnr, \" psnr \\u03C3: \", std_psnr, \" psnr \\u03BC+\\u03C3: \", std_psnr+mean_psnr)\n",
    "    print(\"psnr \\u03BC+1.5\\u03C3: \", (1.5)*std_psnr+mean_psnr, \" psnr \\u03BC+2\\u03C3: \", (2.0)*std_psnr+mean_psnr)\n",
    "    ax.axvline(mean_psnr, color='red', linewidth=2)\n",
    "    ax.axvline(std_psnr+mean_psnr, color='green', linewidth=2)\n",
    "    ax.axvline((1.5)*std_psnr+mean_psnr, color='yellow', linewidth=2)\n",
    "    ax.axvline((2.0)*std_psnr+mean_psnr, color='purple', linewidth=2)\n",
    "\n",
    "    ax = sns.distplot(rmse_vals, hist=True, kde=True, ax=axes[1,0],\n",
    "                color = 'darkblue',\n",
    "                hist_kws={'edgecolor':'black'},\n",
    "                kde_kws={'linewidth': 4, 'color': 'orange'})\n",
    "\n",
    "    ax.set(xlabel = 'RMSE Distance', ylabel = \"#Instances\")\n",
    "    print(\"rmse mean: \", mean_rmse, \" rmse \\u03C3: \", std_rmse, \" rmse \\u03BC+\\u03C3: \", std_rmse+mean_rmse)\n",
    "    print(\"rmse \\u03BC+1.5\\u03C3: \", (1.5)*std_rmse+mean_rmse, \" rmse \\u03BC+2\\u03C3: \", (2.0)*std_rmse+mean_rmse)\n",
    "    ax.axvline(mean_rmse, color='red', linewidth=2)\n",
    "    ax.axvline(std_rmse+mean_rmse, color='green', linewidth=2)\n",
    "    ax.axvline((1.5)*std_rmse+mean_rmse, color='yellow', linewidth=2)\n",
    "    ax.axvline((2.0)*std_rmse+mean_rmse, color='purple', linewidth=2)\n",
    "\n",
    "    ax = sns.distplot(mre_vals, hist=True, kde=True, ax=axes[1,1],\n",
    "                color = 'darkblue',\n",
    "                hist_kws={'edgecolor':'black'},\n",
    "                kde_kws={'linewidth': 4, 'color': 'orange'})\n",
    "\n",
    "    ax.set(xlabel = 'MRE Distance', ylabel = \"#Instances\")\n",
    "    print(\"mre mean: \", mean_mre, \" mre \\u03C3: \", std_mre, \" mre \\u03BC+\\u03C3: \", std_mre+mean_mre)\n",
    "    print(\"mre \\u03BC+1.5\\u03C3: \", (1.5)*std_mre+mean_mre, \" mre \\u03BC+2\\u03C3: \", (2.0)*std_mre+mean_mre)\n",
    "    ax.axvline(mean_mre, color='red', linewidth=2)\n",
    "    ax.axvline(std_mre+mean_mre, color='green', linewidth=2)\n",
    "    ax.axvline((1.5)*std_mre+mean_mre, color='yellow', linewidth=2)\n",
    "    ax.axvline((2.0)*std_mre+mean_mre, color='purple', linewidth=2)\n"
   ]
  },
  {
   "cell_type": "code",
   "execution_count": 3,
   "metadata": {},
   "outputs": [
    {
     "ename": "OSError",
     "evalue": "No file or directory found at /home/can/thesis/ae_weights/cropped_allfullmodel1mse.h5",
     "output_type": "error",
     "traceback": [
      "\u001b[0;31m---------------------------------------------------------------------------\u001b[0m",
      "\u001b[0;31mOSError\u001b[0m                                   Traceback (most recent call last)",
      "Cell \u001b[0;32mIn [3], line 3\u001b[0m\n\u001b[1;32m      1\u001b[0m weight_file_cropped_all \u001b[39m=\u001b[39m \u001b[39m\"\u001b[39m\u001b[39m/home/can/thesis/ae_weights/cropped_allfullmodel1mse.h5\u001b[39m\u001b[39m\"\u001b[39m\n\u001b[1;32m      2\u001b[0m ae_cropped_all \u001b[39m=\u001b[39m ae\u001b[39m.\u001b[39mautoEncoder()\n\u001b[0;32m----> 3\u001b[0m model_cropped_all\u001b[39m=\u001b[39m ae_cropped_all\u001b[39m.\u001b[39;49mloadModel(weight_file_cropped_all)\n",
      "File \u001b[0;32m~/damaged_ts_detection/notebooks/ae.py:123\u001b[0m, in \u001b[0;36mautoEncoder.loadModel\u001b[0;34m(self, src_file)\u001b[0m\n\u001b[1;32m    122\u001b[0m \u001b[39mdef\u001b[39;00m \u001b[39mloadModel\u001b[39m(\u001b[39mself\u001b[39m, src_file):\n\u001b[0;32m--> 123\u001b[0m     model \u001b[39m=\u001b[39m tf\u001b[39m.\u001b[39;49mkeras\u001b[39m.\u001b[39;49mmodels\u001b[39m.\u001b[39;49mload_model(src_file)\n\u001b[1;32m    124\u001b[0m     \u001b[39mreturn\u001b[39;00m model\n",
      "File \u001b[0;32m~/.local/lib/python3.8/site-packages/keras/utils/traceback_utils.py:70\u001b[0m, in \u001b[0;36mfilter_traceback.<locals>.error_handler\u001b[0;34m(*args, **kwargs)\u001b[0m\n\u001b[1;32m     67\u001b[0m     filtered_tb \u001b[39m=\u001b[39m _process_traceback_frames(e\u001b[39m.\u001b[39m__traceback__)\n\u001b[1;32m     68\u001b[0m     \u001b[39m# To get the full stack trace, call:\u001b[39;00m\n\u001b[1;32m     69\u001b[0m     \u001b[39m# `tf.debugging.disable_traceback_filtering()`\u001b[39;00m\n\u001b[0;32m---> 70\u001b[0m     \u001b[39mraise\u001b[39;00m e\u001b[39m.\u001b[39mwith_traceback(filtered_tb) \u001b[39mfrom\u001b[39;00m \u001b[39mNone\u001b[39m\n\u001b[1;32m     71\u001b[0m \u001b[39mfinally\u001b[39;00m:\n\u001b[1;32m     72\u001b[0m     \u001b[39mdel\u001b[39;00m filtered_tb\n",
      "File \u001b[0;32m~/.local/lib/python3.8/site-packages/keras/saving/save.py:226\u001b[0m, in \u001b[0;36mload_model\u001b[0;34m(filepath, custom_objects, compile, options)\u001b[0m\n\u001b[1;32m    224\u001b[0m \u001b[39mif\u001b[39;00m \u001b[39misinstance\u001b[39m(filepath_str, \u001b[39mstr\u001b[39m):\n\u001b[1;32m    225\u001b[0m     \u001b[39mif\u001b[39;00m \u001b[39mnot\u001b[39;00m tf\u001b[39m.\u001b[39mio\u001b[39m.\u001b[39mgfile\u001b[39m.\u001b[39mexists(filepath_str):\n\u001b[0;32m--> 226\u001b[0m         \u001b[39mraise\u001b[39;00m \u001b[39mIOError\u001b[39;00m(\n\u001b[1;32m    227\u001b[0m             \u001b[39mf\u001b[39m\u001b[39m\"\u001b[39m\u001b[39mNo file or directory found at \u001b[39m\u001b[39m{\u001b[39;00mfilepath_str\u001b[39m}\u001b[39;00m\u001b[39m\"\u001b[39m\n\u001b[1;32m    228\u001b[0m         )\n\u001b[1;32m    230\u001b[0m     \u001b[39mif\u001b[39;00m tf\u001b[39m.\u001b[39mio\u001b[39m.\u001b[39mgfile\u001b[39m.\u001b[39misdir(filepath_str):\n\u001b[1;32m    231\u001b[0m         \u001b[39mreturn\u001b[39;00m saved_model_load\u001b[39m.\u001b[39mload(\n\u001b[1;32m    232\u001b[0m             filepath_str, \u001b[39mcompile\u001b[39m, options\n\u001b[1;32m    233\u001b[0m         )\n",
      "\u001b[0;31mOSError\u001b[0m: No file or directory found at /home/can/thesis/ae_weights/cropped_allfullmodel1mse.h5"
     ]
    }
   ],
   "source": [
    "weight_file_cropped_all = \"/home/can/thesis/ae_weights/cropped_allfullmodel1mse.h5\"\n",
    "ae_cropped_all = ae.autoEncoder()\n",
    "model_cropped_all= ae_cropped_all.loadModel(weight_file_cropped_all)"
   ]
  },
  {
   "cell_type": "code",
   "execution_count": null,
   "metadata": {},
   "outputs": [],
   "source": []
  }
 ],
 "metadata": {
  "kernelspec": {
   "display_name": "Python 3",
   "language": "python",
   "name": "python3"
  },
  "language_info": {
   "codemirror_mode": {
    "name": "ipython",
    "version": 3
   },
   "file_extension": ".py",
   "mimetype": "text/x-python",
   "name": "python",
   "nbconvert_exporter": "python",
   "pygments_lexer": "ipython3",
   "version": "3.8.10"
  },
  "orig_nbformat": 4,
  "vscode": {
   "interpreter": {
    "hash": "31f2aee4e71d21fbe5cf8b01ff0e069b9275f58929596ceb00d14d90e3e16cd6"
   }
  }
 },
 "nbformat": 4,
 "nbformat_minor": 2
}
