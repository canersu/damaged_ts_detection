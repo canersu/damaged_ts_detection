{
 "cells": [
  {
   "cell_type": "code",
   "execution_count": 1,
   "id": "2b6c325d-ea3d-4667-be7f-ec450a222554",
   "metadata": {},
   "outputs": [
    {
     "name": "stdout",
     "output_type": "stream",
     "text": [
      "Setup complete. Using torch 1.7.0 (NVIDIA GeForce GTX 1070)\n"
     ]
    }
   ],
   "source": [
    "import torch\n",
    "import os\n",
    "from IPython.display import Image, clear_output  # to display images\n",
    "\n",
    "print(f\"Setup complete. Using torch {torch.__version__} ({torch.cuda.get_device_properties(0).name if torch.cuda.is_available() else 'CPU'})\")"
   ]
  },
  {
   "cell_type": "code",
   "execution_count": 14,
   "id": "4e4e65e4-e2f8-4b33-a9e2-a267740f3865",
   "metadata": {},
   "outputs": [
    {
     "name": "stdout",
     "output_type": "stream",
     "text": [
      "Using torch 1.7.0 CUDA:0 (NVIDIA GeForce GTX 1070, 8116MB)\n",
      "\n",
      "Namespace(adam=False, batch_size=8, bucket='', cache_images=False, cfg='../yolor/cfg/yolov4_csp.cfg', data='../yolor/data/gtsdb.yaml', device='0', epochs=300, evolve=False, exist_ok=False, global_rank=-1, hyp='../yolor/data/hyp.scratch.640.yaml', image_weights=False, img_size=[640, 640], local_rank=-1, log_imgs=16, multi_scale=False, name='yolov4_csp', noautoanchor=False, nosave=False, notest=False, project='runs/train', rect=False, resume=False, save_dir='runs/train/yolov4_csp', single_cls=False, sync_bn=False, total_batch_size=8, weights='yolov4-csp', workers=8, world_size=1)\n",
      "Start Tensorboard with \"tensorboard --logdir runs/train\", view at http://localhost:6006/\n",
      "Hyperparameters {'lr0': 0.01, 'lrf': 0.2, 'momentum': 0.937, 'weight_decay': 0.0005, 'warmup_epochs': 3.0, 'warmup_momentum': 0.8, 'warmup_bias_lr': 0.1, 'box': 0.05, 'cls': 0.3, 'cls_pw': 1.0, 'obj': 0.7, 'obj_pw': 1.0, 'iou_t': 0.2, 'anchor_t': 4.0, 'fl_gamma': 0.0, 'hsv_h': 0.015, 'hsv_s': 0.7, 'hsv_v': 0.4, 'degrees': 0.0, 'translate': 0.1, 'scale': 0.9, 'shear': 0.0, 'perspective': 0.0, 'flipud': 0.0, 'fliplr': 0.5, 'mosaic': 1.0, 'mixup': 0.0}\n",
      "WARNING: smart bias initialization failure.\n",
      "WARNING: smart bias initialization failure.\n",
      "WARNING: smart bias initialization failure.\n",
      "Model Summary: 517 layers, 52921437 parameters, 52921437 gradients, 121.027788800 GFLOPS\n",
      "Optimizer groups: 115 .bias, 115 conv.weight, 112 other\n",
      "Scanning labels ../dataset/labels/train.cache3 (442 found, 0 missing, 98 empty, 0 duplicate, for 540 images): 540it [00:00, 18128.82it/s]\n",
      "Scanning labels ../dataset/labels/val.cache3 (151 found, 0 missing, 29 empty, 1 duplicate, for 180 images): 180it [00:00, 4716.47it/s]\n",
      "Image sizes 640 train, 640 test\n",
      "Using 8 dataloader workers\n",
      "Logging results to runs/train/yolov4_csp\n",
      "Starting training for 300 epochs...\n",
      "\n",
      "     Epoch   gpu_mem       box       obj       cls     total   targets  img_size\n",
      "     0/299     6.24G   0.09905    0.2926    0.2924     0.684         5       640\n",
      "\n",
      "     Epoch   gpu_mem       box       obj       cls     total   targets  img_size\n",
      "     1/299     6.61G   0.09644    0.0232     0.273    0.3926         7       640\n",
      "\n",
      "     Epoch   gpu_mem       box       obj       cls     total   targets  img_size\n",
      "     2/299     6.61G    0.0925   0.01629    0.2428    0.3515         9       640\n",
      "\n",
      "     Epoch   gpu_mem       box       obj       cls     total   targets  img_size\n",
      "     3/299     6.61G   0.08978   0.01319    0.2167    0.3197        13       640\n",
      "               Class      Images     Targets           P           R      mAP@.5\n",
      "Traceback (most recent call last):\n",
      "  File \"../yolor/train.py\", line 537, in <module>\n",
      "    train(hyp, opt, device, tb_writer, wandb)\n",
      "  File \"../yolor/train.py\", line 336, in train\n",
      "    results, maps, times = test.test(opt.data,\n",
      "  File \"/home/can/thesis/yolor/test.py\", line 134, in test\n",
      "    output = non_max_suppression(inf_out, conf_thres=conf_thres, iou_thres=iou_thres)\n",
      "  File \"/home/can/thesis/yolor/utils/general.py\", line 341, in non_max_suppression\n",
      "    i = torch.ops.torchvision.nms(boxes, scores, iou_thres)\n",
      "RuntimeError: CUDA out of memory. Tried to allocate 5.76 GiB (GPU 0; 7.93 GiB total capacity; 876.94 MiB already allocated; 1.04 GiB free; 5.70 GiB reserved in total by PyTorch)\n"
     ]
    }
   ],
   "source": [
    "!python3 ../yolor/train.py --batch-size 8 --img 640 640 --data ../yolor/data/gtsdb.yaml --cfg ../yolor/cfg/yolov4_csp.cfg --weights yolov4-csp --device 0 --name yolov4_csp --hyp ../yolor/data/hyp.scratch.640.yaml --epochs 300"
   ]
  },
  {
   "cell_type": "code",
   "execution_count": 10,
   "id": "544d6a04-9ea6-454e-971c-d3020bc446c1",
   "metadata": {},
   "outputs": [],
   "source": [
    "from time import sleep\n",
    "sleep(10)"
   ]
  },
  {
   "cell_type": "code",
   "execution_count": 13,
   "id": "79534261-b2d3-43d9-9c98-48c47e4b7d10",
   "metadata": {},
   "outputs": [
    {
     "name": "stdout",
     "output_type": "stream",
     "text": [
      "Using torch 1.7.0 CUDA:0 (NVIDIA GeForce GTX 1070, 8116MB)\n",
      "\n",
      "Namespace(adam=False, batch_size=8, bucket='', cache_images=False, cfg='../yolor/cfg/yolor_csp_x.cfg', data='../yolor/data/gtsdb.yaml', device='0', epochs=300, evolve=False, exist_ok=False, global_rank=-1, hyp='../yolor/data/hyp.scratch.640.yaml', image_weights=False, img_size=[640, 640], local_rank=-1, log_imgs=16, multi_scale=False, name='yolor_csp_x', noautoanchor=False, nosave=False, notest=False, project='runs/train', rect=False, resume=False, save_dir='runs/train/yolor_csp_x2', single_cls=False, sync_bn=False, total_batch_size=8, weights='yolor-csp-x', workers=8, world_size=1)\n",
      "Start Tensorboard with \"tensorboard --logdir runs/train\", view at http://localhost:6006/\n",
      "Hyperparameters {'lr0': 0.01, 'lrf': 0.2, 'momentum': 0.937, 'weight_decay': 0.0005, 'warmup_epochs': 3.0, 'warmup_momentum': 0.8, 'warmup_bias_lr': 0.1, 'box': 0.05, 'cls': 0.3, 'cls_pw': 1.0, 'obj': 0.7, 'obj_pw': 1.0, 'iou_t': 0.2, 'anchor_t': 4.0, 'fl_gamma': 0.0, 'hsv_h': 0.015, 'hsv_s': 0.7, 'hsv_v': 0.4, 'degrees': 0.0, 'translate': 0.1, 'scale': 0.9, 'shear': 0.0, 'perspective': 0.0, 'flipud': 0.0, 'fliplr': 0.5, 'mosaic': 1.0, 'mixup': 0.0}\n",
      "Model Summary: 623 layers, 99754058 parameters, 99754058 gradients, 222.970470400 GFLOPS\n",
      "Optimizer groups: 137 .bias, 137 conv.weight, 140 other\n",
      "Scanning labels ../dataset/labels/train.cache3 (442 found, 0 missing, 98 empty, 0 duplicate, for 540 images): 540it [00:00, 17885.03it/s]\n",
      "Scanning labels ../dataset/labels/val.cache3 (151 found, 0 missing, 29 empty, 1 duplicate, for 180 images): 180it [00:00, 5495.12it/s]\n",
      "Image sizes 640 train, 640 test\n",
      "Using 8 dataloader workers\n",
      "Logging results to runs/train/yolor_csp_x2\n",
      "Starting training for 300 epochs...\n",
      "\n",
      "     Epoch   gpu_mem       box       obj       cls     total   targets  img_size\n",
      "  0%|                                                    | 0/68 [00:01<?, ?it/s]\n",
      "Traceback (most recent call last):\n",
      "  File \"../yolor/train.py\", line 537, in <module>\n",
      "    train(hyp, opt, device, tb_writer, wandb)\n",
      "  File \"../yolor/train.py\", line 287, in train\n",
      "    pred = model(imgs)  # forward\n",
      "  File \"/home/can/.local/lib/python3.8/site-packages/torch/nn/modules/module.py\", line 727, in _call_impl\n",
      "    result = self.forward(*input, **kwargs)\n",
      "  File \"/home/can/thesis/yolor/models/models.py\", line 543, in forward\n",
      "    return self.forward_once(x)\n",
      "  File \"/home/can/thesis/yolor/models/models.py\", line 604, in forward_once\n",
      "    x = module(x)\n",
      "  File \"/home/can/.local/lib/python3.8/site-packages/torch/nn/modules/module.py\", line 727, in _call_impl\n",
      "    result = self.forward(*input, **kwargs)\n",
      "  File \"/home/can/.local/lib/python3.8/site-packages/torch/nn/modules/container.py\", line 117, in forward\n",
      "    input = module(input)\n",
      "  File \"/home/can/.local/lib/python3.8/site-packages/torch/nn/modules/module.py\", line 727, in _call_impl\n",
      "    result = self.forward(*input, **kwargs)\n",
      "  File \"/home/can/.local/lib/python3.8/site-packages/torch/nn/modules/batchnorm.py\", line 131, in forward\n",
      "    return F.batch_norm(\n",
      "  File \"/home/can/.local/lib/python3.8/site-packages/torch/nn/functional.py\", line 2056, in batch_norm\n",
      "    return torch.batch_norm(\n",
      "RuntimeError: CUDA out of memory. Tried to allocate 16.00 MiB (GPU 0; 7.93 GiB total capacity; 6.69 GiB already allocated; 48.88 MiB free; 6.71 GiB reserved in total by PyTorch)\n"
     ]
    }
   ],
   "source": [
    "!python3 ../yolor/train.py --batch-size 8 --img 640 640 --data ../yolor/data/gtsdb.yaml --cfg ../yolor/cfg/yolor_csp_x.cfg --weights yolor-csp-x --device 0 --name yolor_csp_x --hyp ../yolor/data/hyp.scratch.640.yaml --epochs 300"
   ]
  },
  {
   "cell_type": "code",
   "execution_count": null,
   "id": "0be646dc-ee11-4ddb-be08-dd6e7b96655b",
   "metadata": {},
   "outputs": [],
   "source": []
  }
 ],
 "metadata": {
  "kernelspec": {
   "display_name": "Python 3 (ipykernel)",
   "language": "python",
   "name": "python3"
  },
  "language_info": {
   "codemirror_mode": {
    "name": "ipython",
    "version": 3
   },
   "file_extension": ".py",
   "mimetype": "text/x-python",
   "name": "python",
   "nbconvert_exporter": "python",
   "pygments_lexer": "ipython3",
   "version": "3.8.10"
  }
 },
 "nbformat": 4,
 "nbformat_minor": 5
}
