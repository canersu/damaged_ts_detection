{
 "cells": [
  {
   "cell_type": "code",
   "execution_count": 1,
   "id": "0a6a4d51-4d45-4219-a360-fbf1f3e221fc",
   "metadata": {},
   "outputs": [
    {
     "name": "stderr",
     "output_type": "stream",
     "text": [
      "2022-09-29 17:11:15.990209: I tensorflow/core/platform/cpu_feature_guard.cc:193] This TensorFlow binary is optimized with oneAPI Deep Neural Network Library (oneDNN) to use the following CPU instructions in performance-critical operations:  AVX2 FMA\n",
      "To enable them in other operations, rebuild TensorFlow with the appropriate compiler flags.\n",
      "2022-09-29 17:11:16.326361: E tensorflow/stream_executor/cuda/cuda_blas.cc:2981] Unable to register cuBLAS factory: Attempting to register factory for plugin cuBLAS when one has already been registered\n",
      "2022-09-29 17:11:17.181057: W tensorflow/stream_executor/platform/default/dso_loader.cc:64] Could not load dynamic library 'libnvinfer.so.7'; dlerror: libnvinfer.so.7: cannot open shared object file: No such file or directory; LD_LIBRARY_PATH: /home/can/.local/lib/python3.8/site-packages/cv2/../../lib64:/usr/local/cuda/lib64:/usr/local/cuda-11.2/lib64:\n",
      "2022-09-29 17:11:17.181160: W tensorflow/stream_executor/platform/default/dso_loader.cc:64] Could not load dynamic library 'libnvinfer_plugin.so.7'; dlerror: libnvinfer_plugin.so.7: cannot open shared object file: No such file or directory; LD_LIBRARY_PATH: /home/can/.local/lib/python3.8/site-packages/cv2/../../lib64:/usr/local/cuda/lib64:/usr/local/cuda-11.2/lib64:\n",
      "2022-09-29 17:11:17.181169: W tensorflow/compiler/tf2tensorrt/utils/py_utils.cc:38] TF-TRT Warning: Cannot dlopen some TensorRT libraries. If you would like to use Nvidia GPU with TensorRT, please make sure the missing libraries mentioned above are installed properly.\n"
     ]
    }
   ],
   "source": [
    "import numpy as np \n",
    "import pandas as pd \n",
    "import matplotlib.pyplot as plt\n",
    "import cv2\n",
    "import tensorflow as tf\n",
    "from PIL import Image\n",
    "from sklearn.model_selection import train_test_split\n",
    "from keras.utils import to_categorical\n",
    "\n",
    "import os"
   ]
  },
  {
   "cell_type": "code",
   "execution_count": 2,
   "id": "0f420aa4-8daa-41a3-98f9-b949da23f6fb",
   "metadata": {},
   "outputs": [],
   "source": [
    "BASE_PATH = '../gtsrb/'\n",
    "TRAIN_PATH = BASE_PATH + 'Train'\n",
    "\n",
    "\n",
    "data = []\n",
    "labels = []\n",
    "\n",
    "NUM_CLASSES = len(os.listdir(TRAIN_PATH))\n",
    "IMG_HEIGHT = 48\n",
    "IMG_WIDTH = 48\n",
    "IMG_CHAN = 3\n",
    "\n",
    "img_shape = (IMG_HEIGHT, IMG_WIDTH, IMG_CHAN)\n",
    "\n",
    "NUM_CATEGORIES = len(os.listdir(TRAIN_PATH))\n",
    "for category in range(NUM_CLASSES):\n",
    "        categories = os.path.join(TRAIN_PATH, str(category))\n",
    "        for img in os.listdir(categories):\n",
    "            image = Image.open(os.path.join(categories, img))\n",
    "            image = image.resize((IMG_HEIGHT,IMG_WIDTH))\n",
    "            image = np.array(image)\n",
    "            image = image/255.0\n",
    "            data.append(image)"
   ]
  },
  {
   "cell_type": "code",
   "execution_count": 7,
   "id": "aeab3c0b-b98b-42b6-a8f5-ac5a1291ac81",
   "metadata": {},
   "outputs": [
    {
     "name": "stdout",
     "output_type": "stream",
     "text": [
      "(31367, 48, 48, 3) (7842, 48, 48, 3)\n"
     ]
    }
   ],
   "source": [
    "# Convert lists to NumPy arrays\n",
    "data = np.array(data)\n",
    "x_train, x_test = train_test_split(data,test_size=0.2, random_state=16)\n",
    "print(x_train.shape, x_test.shape)"
   ]
  },
  {
   "cell_type": "code",
   "execution_count": 8,
   "id": "4efe6f47-3082-44f4-ac10-0c08e2f0f5d3",
   "metadata": {},
   "outputs": [],
   "source": [
    "x_train = x_train.astype('float32') / 255.\n",
    "x_test = x_test.astype('float32') / 255.\n",
    "x_train = np.reshape(x_train, (len(x_train), 48, 48, 3))\n",
    "x_test = np.reshape(x_test, (len(x_test), 48, 48, 3))"
   ]
  },
  {
   "cell_type": "code",
   "execution_count": 13,
   "id": "ca5e7827-4c8a-4abf-ac7b-51102b12c6f6",
   "metadata": {},
   "outputs": [
    {
     "name": "stdout",
     "output_type": "stream",
     "text": [
      "hello\n",
      "hello\n",
      "hello\n"
     ]
    }
   ],
   "source": [
    "# Create the Encoder and Decoder\n",
    "#pass the gray scale input image of size(28,28,1)\n",
    "inputs = tf.keras.Input(shape=(48, 48, 3), name='input_layer')\n",
    "\n",
    "# Conv Block 1 -> BatchNorm->leaky Relu\n",
    "encoded = tf.keras.layers.Conv2D(32, kernel_size=(3,3), strides= 1, padding='same', name='conv_1')(inputs)\n",
    "encoded = tf.keras.layers.BatchNormalization(name='batchnorm_1')(encoded)\n",
    "encoded = tf.keras.layers.LeakyReLU(name='leaky_relu_1')(encoded)\n",
    "\n",
    "# Conv Block 2 -> BatchNorm->leaky Relu\n",
    "encoded = tf.keras.layers.Conv2D(64, kernel_size=(3,3), strides= 2, padding='same', name='conv_2')(encoded)\n",
    "encoded = tf.keras.layers.BatchNormalization(name='batchnorm_2')(encoded)\n",
    "encoded = tf.keras.layers.LeakyReLU(name='leaky_relu_2')(encoded)\n",
    "\n",
    "# Conv Block 3 -> BatchNorm->leaky Relu\n",
    "encoded = tf.keras.layers.Conv2D(64, kernel_size=(3,3), strides=2, padding='same', name='conv_3')(encoded)\n",
    "encoded = tf.keras.layers.BatchNormalization(name='batchnorm_3')(encoded)\n",
    "encoded = tf.keras.layers.LeakyReLU(name='leaky_relu_3')(encoded)\n",
    "\n",
    "#Decoder\n",
    "# DeConv Block 1-> BatchNorm->leaky Relu\n",
    "decoded = tf.keras.layers.Conv2DTranspose(64, (3,3), strides= 1, padding='same',name='conv_transpose_1')(encoded)\n",
    "decoded = tf.keras.layers.BatchNormalization(name='batchnorm_4')(decoded)\n",
    "decoded = tf.keras.layers.LeakyReLU(name='leaky_relu_4')(decoded)\n",
    "\n",
    "# DeConv Block 2-> BatchNorm->leaky Relu\n",
    "decoded = tf.keras.layers.Conv2DTranspose(64, (3,3), strides= 2, padding='same', name='conv_transpose_2')(decoded)\n",
    "decoded = tf.keras.layers.BatchNormalization(name='batchnorm_5')(decoded)\n",
    "decoded = tf.keras.layers.LeakyReLU(name='leaky_relu_5')(decoded)\n",
    "\n",
    "# DeConv Block 3-> BatchNorm->leaky Relu\n",
    "decoded = tf.keras.layers.Conv2DTranspose(32, (3,3), 2, padding='same', name='conv_transpose_3')(decoded)\n",
    "decoded = tf.keras.layers.BatchNormalization(name='batchnorm_6')(decoded)\n",
    "decoded = tf.keras.layers.LeakyReLU(name='leaky_relu_6')(decoded)\n",
    "\n",
    "# output\n",
    "outputs = tf.keras.layers.Conv2DTranspose(1, 3, 1,padding='same', activation='sigmoid', name='conv_transpose_4')(decoded)"
   ]
  },
  {
   "cell_type": "code",
   "execution_count": null,
   "id": "75a477f1-3dc8-4fd3-84aa-74332e87950b",
   "metadata": {},
   "outputs": [],
   "source": [
    "ae = tf.keras.models.Sequential()\n",
    "ae.add(tf.keras.layers.Conv2D(filters=8, kernel_size=(3,3), activation='relu', input_shape=img_shape))\n",
    "ae.add(tf.keras.layers.Conv2D(filters=16, kernel_size=(3,3), activation='relu'))\n",
    "ae.add(tf.keras.layers.MaxPool2D(pool_size=(2, 2)))\n",
    "ae.add(tf.keras.layers.Conv2D(filters=32, kernel_size=(3, 3), activation='relu'))\n",
    "ae.add(tf.keras.layers.Conv2D(filters=64, kernel_size=(3, 3), activation='relu'))\n",
    "ae.add(tf.keras.layers.MaxPool2D(pool_size=(2, 2)))\n",
    "ae.add(tf.keras.layers.Flatten())\n",
    "ae.add(tf.keras.layers.Dense(1024, activation='relu'))\n",
    "ae.add(tf.keras.layers.Dense(256, activation='relu'))\n",
    "ae.add(tf.keras.layers.Dense(1024, activation='relu'))\n",
    "ae.add(tf.keras.layers.Dense(5184, activation='relu'))\n",
    "ae.add(tf.keras.layers.Reshape((9, 9, 64)))\n",
    "ae.add(tf.keras.layers.UpSampling2D(size=(2, 2)))\n",
    "ae.add(tf.keras.layers.Conv2DTranspose(filters=64, kernel_size=(3, 3), activation='relu'))\n",
    "ae.add(tf.keras.layers.Conv2DTranspose(filters=32, kernel_size=(3, 3), activation='relu'))\n",
    "ae.add(tf.keras.layers.UpSampling2D(size=(2, 2)))\n",
    "ae.add(tf.keras.layers.Conv2DTranspose(filters=16, kernel_size=(3,3), activation='relu'))\n",
    "ae.add(tf.keras.layers.Conv2DTranspose(filters=3, kernel_size = (3,3), activation = 'relu'))"
   ]
  },
  {
   "cell_type": "code",
   "execution_count": 10,
   "id": "c125c507-9b4d-4b56-9343-79ac2c3abf03",
   "metadata": {},
   "outputs": [],
   "source": [
    "def SSIMLoss(y_true, y_pred):\n",
    "    return 1 - tf.reduce_mean(tf.image.ssim(y_true, y_pred,1.0))"
   ]
  },
  {
   "cell_type": "code",
   "execution_count": 14,
   "id": "5a5c4e69-dc5a-4052-b71d-d1838dd693ad",
   "metadata": {},
   "outputs": [],
   "source": [
    "autoencoder = tf.keras.Model(inputs, outputs)\n",
    "optimizer = tf.keras.optimizers.Adam(lr = 0.0005)\n",
    "autoencoder.compile(optimizer=optimizer, loss=SSIMLoss)"
   ]
  },
  {
   "cell_type": "code",
   "execution_count": 15,
   "id": "923951d8-50fe-451a-a35b-4c8dcac5e9a6",
   "metadata": {},
   "outputs": [
    {
     "name": "stdout",
     "output_type": "stream",
     "text": [
      "Epoch 1/10\n"
     ]
    },
    {
     "ename": "ValueError",
     "evalue": "in user code:\n\n    File \"/home/can/.local/lib/python3.8/site-packages/keras/engine/training.py\", line 1160, in train_function  *\n        return step_function(self, iterator)\n    File \"/tmp/ipykernel_160103/795528271.py\", line 2, in SSIMLoss  *\n        return 1 - tf.reduce_mean(tf.image.ssim(y_true, y_pred,1.0))\n\n    ValueError: Shapes (48, 48, 3) and (144, 144, 1) are incompatible\n",
     "output_type": "error",
     "traceback": [
      "\u001b[0;31m---------------------------------------------------------------------------\u001b[0m",
      "\u001b[0;31mValueError\u001b[0m                                Traceback (most recent call last)",
      "Cell \u001b[0;32mIn [15], line 1\u001b[0m\n\u001b[0;32m----> 1\u001b[0m hist\u001b[38;5;241m=\u001b[39m\u001b[43mautoencoder\u001b[49m\u001b[38;5;241;43m.\u001b[39;49m\u001b[43mfit\u001b[49m\u001b[43m(\u001b[49m\u001b[43mx_train\u001b[49m\u001b[43m,\u001b[49m\u001b[43m \u001b[49m\u001b[43mx_train\u001b[49m\u001b[43m,\u001b[49m\n\u001b[1;32m      2\u001b[0m \u001b[43m                \u001b[49m\u001b[43mepochs\u001b[49m\u001b[38;5;241;43m=\u001b[39;49m\u001b[38;5;241;43m10\u001b[39;49m\u001b[43m,\u001b[49m\n\u001b[1;32m      3\u001b[0m \u001b[43m                \u001b[49m\u001b[43mbatch_size\u001b[49m\u001b[38;5;241;43m=\u001b[39;49m\u001b[38;5;241;43m128\u001b[39;49m\u001b[43m,\u001b[49m\n\u001b[1;32m      4\u001b[0m \u001b[43m                \u001b[49m\u001b[43mshuffle\u001b[49m\u001b[38;5;241;43m=\u001b[39;49m\u001b[38;5;28;43;01mTrue\u001b[39;49;00m\u001b[43m,\u001b[49m\n\u001b[1;32m      5\u001b[0m \u001b[43m                \u001b[49m\u001b[43mvalidation_data\u001b[49m\u001b[38;5;241;43m=\u001b[39;49m\u001b[43m(\u001b[49m\u001b[43mx_test\u001b[49m\u001b[43m,\u001b[49m\u001b[43m \u001b[49m\u001b[43mx_test\u001b[49m\u001b[43m)\u001b[49m\n\u001b[1;32m      6\u001b[0m \u001b[43m                \u001b[49m\u001b[43m)\u001b[49m\n",
      "File \u001b[0;32m~/.local/lib/python3.8/site-packages/keras/utils/traceback_utils.py:70\u001b[0m, in \u001b[0;36mfilter_traceback.<locals>.error_handler\u001b[0;34m(*args, **kwargs)\u001b[0m\n\u001b[1;32m     67\u001b[0m     filtered_tb \u001b[38;5;241m=\u001b[39m _process_traceback_frames(e\u001b[38;5;241m.\u001b[39m__traceback__)\n\u001b[1;32m     68\u001b[0m     \u001b[38;5;66;03m# To get the full stack trace, call:\u001b[39;00m\n\u001b[1;32m     69\u001b[0m     \u001b[38;5;66;03m# `tf.debugging.disable_traceback_filtering()`\u001b[39;00m\n\u001b[0;32m---> 70\u001b[0m     \u001b[38;5;28;01mraise\u001b[39;00m e\u001b[38;5;241m.\u001b[39mwith_traceback(filtered_tb) \u001b[38;5;28;01mfrom\u001b[39;00m \u001b[38;5;28mNone\u001b[39m\n\u001b[1;32m     71\u001b[0m \u001b[38;5;28;01mfinally\u001b[39;00m:\n\u001b[1;32m     72\u001b[0m     \u001b[38;5;28;01mdel\u001b[39;00m filtered_tb\n",
      "File \u001b[0;32m/tmp/__autograph_generated_file326yqkx2.py:15\u001b[0m, in \u001b[0;36mouter_factory.<locals>.inner_factory.<locals>.tf__train_function\u001b[0;34m(iterator)\u001b[0m\n\u001b[1;32m     13\u001b[0m \u001b[38;5;28;01mtry\u001b[39;00m:\n\u001b[1;32m     14\u001b[0m     do_return \u001b[38;5;241m=\u001b[39m \u001b[38;5;28;01mTrue\u001b[39;00m\n\u001b[0;32m---> 15\u001b[0m     retval_ \u001b[38;5;241m=\u001b[39m ag__\u001b[38;5;241m.\u001b[39mconverted_call(ag__\u001b[38;5;241m.\u001b[39mld(step_function), (ag__\u001b[38;5;241m.\u001b[39mld(\u001b[38;5;28mself\u001b[39m), ag__\u001b[38;5;241m.\u001b[39mld(iterator)), \u001b[38;5;28;01mNone\u001b[39;00m, fscope)\n\u001b[1;32m     16\u001b[0m \u001b[38;5;28;01mexcept\u001b[39;00m:\n\u001b[1;32m     17\u001b[0m     do_return \u001b[38;5;241m=\u001b[39m \u001b[38;5;28;01mFalse\u001b[39;00m\n",
      "File \u001b[0;32m/tmp/__autograph_generated_file673h8i54.py:12\u001b[0m, in \u001b[0;36mouter_factory.<locals>.inner_factory.<locals>.tf__SSIMLoss\u001b[0;34m(y_true, y_pred)\u001b[0m\n\u001b[1;32m     10\u001b[0m \u001b[38;5;28;01mtry\u001b[39;00m:\n\u001b[1;32m     11\u001b[0m     do_return \u001b[38;5;241m=\u001b[39m \u001b[38;5;28;01mTrue\u001b[39;00m\n\u001b[0;32m---> 12\u001b[0m     retval_ \u001b[38;5;241m=\u001b[39m (\u001b[38;5;241m1\u001b[39m \u001b[38;5;241m-\u001b[39m ag__\u001b[38;5;241m.\u001b[39mconverted_call(ag__\u001b[38;5;241m.\u001b[39mld(tf)\u001b[38;5;241m.\u001b[39mreduce_mean, (ag__\u001b[38;5;241m.\u001b[39mconverted_call(ag__\u001b[38;5;241m.\u001b[39mld(tf)\u001b[38;5;241m.\u001b[39mimage\u001b[38;5;241m.\u001b[39mssim, (ag__\u001b[38;5;241m.\u001b[39mld(y_true), ag__\u001b[38;5;241m.\u001b[39mld(y_pred), \u001b[38;5;241m1.0\u001b[39m), \u001b[38;5;28;01mNone\u001b[39;00m, fscope),), \u001b[38;5;28;01mNone\u001b[39;00m, fscope))\n\u001b[1;32m     13\u001b[0m \u001b[38;5;28;01mexcept\u001b[39;00m:\n\u001b[1;32m     14\u001b[0m     do_return \u001b[38;5;241m=\u001b[39m \u001b[38;5;28;01mFalse\u001b[39;00m\n",
      "\u001b[0;31mValueError\u001b[0m: in user code:\n\n    File \"/home/can/.local/lib/python3.8/site-packages/keras/engine/training.py\", line 1160, in train_function  *\n        return step_function(self, iterator)\n    File \"/tmp/ipykernel_160103/795528271.py\", line 2, in SSIMLoss  *\n        return 1 - tf.reduce_mean(tf.image.ssim(y_true, y_pred,1.0))\n\n    ValueError: Shapes (48, 48, 3) and (144, 144, 1) are incompatible\n"
     ]
    }
   ],
   "source": [
    "hist=autoencoder.fit(x_train, x_train,\n",
    "                epochs=10,\n",
    "                batch_size=128,\n",
    "                shuffle=True,\n",
    "                validation_data=(x_test, x_test)\n",
    "                )"
   ]
  },
  {
   "cell_type": "code",
   "execution_count": null,
   "id": "086e7be0-7e77-4173-a1a4-e6df875ace2a",
   "metadata": {},
   "outputs": [],
   "source": []
  }
 ],
 "metadata": {
  "kernelspec": {
   "display_name": "Python 3 (ipykernel)",
   "language": "python",
   "name": "python3"
  },
  "language_info": {
   "codemirror_mode": {
    "name": "ipython",
    "version": 3
   },
   "file_extension": ".py",
   "mimetype": "text/x-python",
   "name": "python",
   "nbconvert_exporter": "python",
   "pygments_lexer": "ipython3",
   "version": "3.8.10"
  }
 },
 "nbformat": 4,
 "nbformat_minor": 5
}
