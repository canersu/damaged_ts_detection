{
 "cells": [
  {
   "cell_type": "code",
   "execution_count": 17,
   "id": "602a2ae9-729d-4ed0-8b1c-19d43b65c768",
   "metadata": {},
   "outputs": [],
   "source": [
    "import torch\n",
    "import cv2\n",
    "import time"
   ]
  },
  {
   "cell_type": "code",
   "execution_count": 18,
   "id": "d82cd2f5-1e88-40c8-8bb8-4ab915507fba",
   "metadata": {},
   "outputs": [
    {
     "name": "stderr",
     "output_type": "stream",
     "text": [
      "YOLOv5 🚀 v6.2-110-ga4ed988 Python-3.8.10 torch-1.12.1+cu102 CUDA:0 (NVIDIA GeForce GTX 1070, 8116MiB)\n",
      "\n",
      "Fusing layers... \n",
      "Model summary: 476 layers, 76441728 parameters, 0 gradients\n",
      "Adding AutoShape... \n"
     ]
    }
   ],
   "source": [
    "model = torch.hub.load('../yolov5', 'custom', path='../results/yolov5/yolov5l6/weights/best.pt', source='local') "
   ]
  },
  {
   "cell_type": "code",
   "execution_count": 31,
   "id": "72edbe5d-52d0-40d3-b307-6cc1c65bed06",
   "metadata": {},
   "outputs": [
    {
     "name": "stdout",
     "output_type": "stream",
     "text": [
      "image 1/1: 800x1360 1 no entry, 1 keep right\n",
      "Speed: 18.4ms pre-process, 76.1ms inference, 1.0ms NMS per image at shape (1, 3, 384, 640)\n"
     ]
    },
    {
     "data": {
      "text/plain": [
       "tensor([[439.06693, 498.41147, 496.18857, 558.08215,   0.97990,  38.00000],\n",
       "        [ 97.00301, 425.38818, 135.08797, 465.40250,   0.90656,  17.00000]], device='cuda:0')"
      ]
     },
     "execution_count": 31,
     "metadata": {},
     "output_type": "execute_result"
    }
   ],
   "source": [
    "# Image\n",
    "img = '../dataset/images/test/00117.jpg'\n",
    "# Inference\n",
    "results = model(img, augment=True)\n",
    "# Results, change the flowing to: results.show()\n",
    "results.show()  # or .show(), .save(), .crop(), .pandas(), etc\n",
    "results.print()  # or .show(), .save(), .crop(), .pandas(), etc.\n",
    "results.xyxy[0]"
   ]
  },
  {
   "cell_type": "code",
   "execution_count": 30,
   "id": "da66e788-fd6f-434f-8cae-a296a8f89023",
   "metadata": {},
   "outputs": [],
   "source": [
    "# img1 = Image.open('zidane.jpg')  # PIL image\n",
    "# img2 = cv2.imread('bus.jpg')[:, :, ::-1]  # OpenCV image (BGR to RGB)\n",
    "\n",
    "# imgs = [img1, img2]  # batch of images\n",
    "\n",
    "# # Inference\n",
    "# results = model(imgs, size=640)  # includes NMS\n",
    "\n",
    "# # Results\n",
    "# results.print()  \n",
    "# results.save()  # or .show()\n",
    "\n",
    "# results.xyxy[0]  # img1 predictions (tensor)\n",
    "# results.pandas().xyxy[0]  # img1 predictions (pandas)"
   ]
  },
  {
   "cell_type": "code",
   "execution_count": 33,
   "id": "4338f032-0a6f-41b3-a43c-d31eb94fe40f",
   "metadata": {},
   "outputs": [
    {
     "data": {
      "text/html": [
       "<div>\n",
       "<style scoped>\n",
       "    .dataframe tbody tr th:only-of-type {\n",
       "        vertical-align: middle;\n",
       "    }\n",
       "\n",
       "    .dataframe tbody tr th {\n",
       "        vertical-align: top;\n",
       "    }\n",
       "\n",
       "    .dataframe thead th {\n",
       "        text-align: right;\n",
       "    }\n",
       "</style>\n",
       "<table border=\"1\" class=\"dataframe\">\n",
       "  <thead>\n",
       "    <tr style=\"text-align: right;\">\n",
       "      <th></th>\n",
       "      <th>xmin</th>\n",
       "      <th>ymin</th>\n",
       "      <th>xmax</th>\n",
       "      <th>ymax</th>\n",
       "      <th>confidence</th>\n",
       "      <th>class</th>\n",
       "      <th>name</th>\n",
       "    </tr>\n",
       "  </thead>\n",
       "  <tbody>\n",
       "    <tr>\n",
       "      <th>0</th>\n",
       "      <td>439.066925</td>\n",
       "      <td>498.411469</td>\n",
       "      <td>496.188568</td>\n",
       "      <td>558.082153</td>\n",
       "      <td>0.979895</td>\n",
       "      <td>38</td>\n",
       "      <td>keep right</td>\n",
       "    </tr>\n",
       "    <tr>\n",
       "      <th>1</th>\n",
       "      <td>97.003014</td>\n",
       "      <td>425.388184</td>\n",
       "      <td>135.087967</td>\n",
       "      <td>465.402496</td>\n",
       "      <td>0.906557</td>\n",
       "      <td>17</td>\n",
       "      <td>no entry</td>\n",
       "    </tr>\n",
       "  </tbody>\n",
       "</table>\n",
       "</div>"
      ],
      "text/plain": [
       "         xmin        ymin        xmax        ymax  confidence  class  \\\n",
       "0  439.066925  498.411469  496.188568  558.082153    0.979895     38   \n",
       "1   97.003014  425.388184  135.087967  465.402496    0.906557     17   \n",
       "\n",
       "         name  \n",
       "0  keep right  \n",
       "1    no entry  "
      ]
     },
     "execution_count": 33,
     "metadata": {},
     "output_type": "execute_result"
    }
   ],
   "source": [
    "results.pandas().xyxy[0]  # img1 predictions (pandas)"
   ]
  },
  {
   "cell_type": "code",
   "execution_count": 36,
   "id": "04e21c3b-f5d2-47ff-9def-c1940f18b423",
   "metadata": {},
   "outputs": [
    {
     "name": "stdout",
     "output_type": "stream",
     "text": [
      "439\n"
     ]
    }
   ],
   "source": [
    "x1 = int(results.xyxy[0][0][0])  # img1 predictions (pandas)\n",
    "print(x1)"
   ]
  },
  {
   "cell_type": "code",
   "execution_count": 24,
   "id": "d6ed235b-c57b-41d1-a11c-bfddce40c9ea",
   "metadata": {},
   "outputs": [
    {
     "name": "stderr",
     "output_type": "stream",
     "text": [
      "Saved 1 image to \u001b[1mruns/detect/clip01/frame1.jpg\u001b[0m\n",
      "Saved 1 image to \u001b[1mruns/detect/clip01/frame2.jpg\u001b[0m\n",
      "Saved 1 image to \u001b[1mruns/detect/clip01/frame3.jpg\u001b[0m\n",
      "Saved 1 image to \u001b[1mruns/detect/clip01/frame4.jpg\u001b[0m\n",
      "Saved 1 image to \u001b[1mruns/detect/clip01/frame5.jpg\u001b[0m\n",
      "Saved 1 image to \u001b[1mruns/detect/clip01/frame6.jpg\u001b[0m\n",
      "Saved 1 image to \u001b[1mruns/detect/clip01/frame7.jpg\u001b[0m\n",
      "Saved 1 image to \u001b[1mruns/detect/clip01/frame8.jpg\u001b[0m\n",
      "Saved 1 image to \u001b[1mruns/detect/clip01/frame9.jpg\u001b[0m\n",
      "Saved 1 image to \u001b[1mruns/detect/clip01/frame10.jpg\u001b[0m\n",
      "Saved 1 image to \u001b[1mruns/detect/clip01/frame11.jpg\u001b[0m\n",
      "Saved 1 image to \u001b[1mruns/detect/clip01/frame12.jpg\u001b[0m\n",
      "Saved 1 image to \u001b[1mruns/detect/clip01/frame13.jpg\u001b[0m\n",
      "Saved 1 image to \u001b[1mruns/detect/clip01/frame14.jpg\u001b[0m\n",
      "Saved 1 image to \u001b[1mruns/detect/clip01/frame15.jpg\u001b[0m\n",
      "Saved 1 image to \u001b[1mruns/detect/clip01/frame16.jpg\u001b[0m\n",
      "Saved 1 image to \u001b[1mruns/detect/clip01/frame17.jpg\u001b[0m\n",
      "Saved 1 image to \u001b[1mruns/detect/clip01/frame18.jpg\u001b[0m\n",
      "Saved 1 image to \u001b[1mruns/detect/clip01/frame19.jpg\u001b[0m\n",
      "Saved 1 image to \u001b[1mruns/detect/clip01/frame20.jpg\u001b[0m\n",
      "Saved 1 image to \u001b[1mruns/detect/clip01/frame21.jpg\u001b[0m\n",
      "Saved 1 image to \u001b[1mruns/detect/clip01/frame22.jpg\u001b[0m\n",
      "Saved 1 image to \u001b[1mruns/detect/clip01/frame23.jpg\u001b[0m\n",
      "Saved 1 image to \u001b[1mruns/detect/clip01/frame24.jpg\u001b[0m\n",
      "Saved 1 image to \u001b[1mruns/detect/clip01/frame25.jpg\u001b[0m\n",
      "Saved 1 image to \u001b[1mruns/detect/clip01/frame26.jpg\u001b[0m\n",
      "Saved 1 image to \u001b[1mruns/detect/clip01/frame27.jpg\u001b[0m\n",
      "Saved 1 image to \u001b[1mruns/detect/clip01/frame28.jpg\u001b[0m\n",
      "Saved 1 image to \u001b[1mruns/detect/clip01/frame29.jpg\u001b[0m\n",
      "Saved 1 image to \u001b[1mruns/detect/clip01/frame30.jpg\u001b[0m\n",
      "Saved 1 image to \u001b[1mruns/detect/clip01/frame31.jpg\u001b[0m\n",
      "Saved 1 image to \u001b[1mruns/detect/clip01/frame32.jpg\u001b[0m\n",
      "Saved 1 image to \u001b[1mruns/detect/clip01/frame33.jpg\u001b[0m\n",
      "Saved 1 image to \u001b[1mruns/detect/clip01/frame34.jpg\u001b[0m\n",
      "Saved 1 image to \u001b[1mruns/detect/clip01/frame35.jpg\u001b[0m\n",
      "Saved 1 image to \u001b[1mruns/detect/clip01/frame36.jpg\u001b[0m\n",
      "Saved 1 image to \u001b[1mruns/detect/clip01/frame37.jpg\u001b[0m\n",
      "Saved 1 image to \u001b[1mruns/detect/clip01/frame38.jpg\u001b[0m\n",
      "Saved 1 image to \u001b[1mruns/detect/clip01/frame39.jpg\u001b[0m\n",
      "Saved 1 image to \u001b[1mruns/detect/clip01/frame40.jpg\u001b[0m\n",
      "Saved 1 image to \u001b[1mruns/detect/clip01/frame41.jpg\u001b[0m\n",
      "Saved 1 image to \u001b[1mruns/detect/clip01/frame42.jpg\u001b[0m\n",
      "Saved 1 image to \u001b[1mruns/detect/clip01/frame43.jpg\u001b[0m\n",
      "Saved 1 image to \u001b[1mruns/detect/clip01/frame44.jpg\u001b[0m\n",
      "Saved 1 image to \u001b[1mruns/detect/clip01/frame45.jpg\u001b[0m\n",
      "Saved 1 image to \u001b[1mruns/detect/clip01/frame46.jpg\u001b[0m\n",
      "Saved 1 image to \u001b[1mruns/detect/clip01/frame47.jpg\u001b[0m\n",
      "Saved 1 image to \u001b[1mruns/detect/clip01/frame48.jpg\u001b[0m\n",
      "Saved 1 image to \u001b[1mruns/detect/clip01/frame49.jpg\u001b[0m\n",
      "Saved 1 image to \u001b[1mruns/detect/clip01/frame50.jpg\u001b[0m\n",
      "Saved 1 image to \u001b[1mruns/detect/clip01/frame51.jpg\u001b[0m\n",
      "Saved 1 image to \u001b[1mruns/detect/clip01/frame52.jpg\u001b[0m\n",
      "Saved 1 image to \u001b[1mruns/detect/clip01/frame53.jpg\u001b[0m\n",
      "Saved 1 image to \u001b[1mruns/detect/clip01/frame54.jpg\u001b[0m\n",
      "Saved 1 image to \u001b[1mruns/detect/clip01/frame55.jpg\u001b[0m\n",
      "Saved 1 image to \u001b[1mruns/detect/clip01/frame56.jpg\u001b[0m\n",
      "Saved 1 image to \u001b[1mruns/detect/clip01/frame57.jpg\u001b[0m\n",
      "Saved 1 image to \u001b[1mruns/detect/clip01/frame58.jpg\u001b[0m\n",
      "Saved 1 image to \u001b[1mruns/detect/clip01/frame59.jpg\u001b[0m\n",
      "Saved 1 image to \u001b[1mruns/detect/clip01/frame60.jpg\u001b[0m\n",
      "Saved 1 image to \u001b[1mruns/detect/clip01/frame61.jpg\u001b[0m\n",
      "Saved 1 image to \u001b[1mruns/detect/clip01/frame62.jpg\u001b[0m\n",
      "Saved 1 image to \u001b[1mruns/detect/clip01/frame63.jpg\u001b[0m\n",
      "Saved 1 image to \u001b[1mruns/detect/clip01/frame64.jpg\u001b[0m\n",
      "Saved 1 image to \u001b[1mruns/detect/clip01/frame65.jpg\u001b[0m\n",
      "Saved 1 image to \u001b[1mruns/detect/clip01/frame66.jpg\u001b[0m\n",
      "Saved 1 image to \u001b[1mruns/detect/clip01/frame67.jpg\u001b[0m\n",
      "Saved 1 image to \u001b[1mruns/detect/clip01/frame68.jpg\u001b[0m\n",
      "Saved 1 image to \u001b[1mruns/detect/clip01/frame69.jpg\u001b[0m\n",
      "Saved 1 image to \u001b[1mruns/detect/clip01/frame70.jpg\u001b[0m\n",
      "Saved 1 image to \u001b[1mruns/detect/clip01/frame71.jpg\u001b[0m\n",
      "Saved 1 image to \u001b[1mruns/detect/clip01/frame72.jpg\u001b[0m\n",
      "Saved 1 image to \u001b[1mruns/detect/clip01/frame73.jpg\u001b[0m\n",
      "Saved 1 image to \u001b[1mruns/detect/clip01/frame74.jpg\u001b[0m\n",
      "Saved 1 image to \u001b[1mruns/detect/clip01/frame75.jpg\u001b[0m\n",
      "Saved 1 image to \u001b[1mruns/detect/clip01/frame76.jpg\u001b[0m\n",
      "Saved 1 image to \u001b[1mruns/detect/clip01/frame77.jpg\u001b[0m\n",
      "Saved 1 image to \u001b[1mruns/detect/clip01/frame78.jpg\u001b[0m\n",
      "Saved 1 image to \u001b[1mruns/detect/clip01/frame79.jpg\u001b[0m\n",
      "Saved 1 image to \u001b[1mruns/detect/clip01/frame80.jpg\u001b[0m\n",
      "Saved 1 image to \u001b[1mruns/detect/clip01/frame81.jpg\u001b[0m\n",
      "Saved 1 image to \u001b[1mruns/detect/clip01/frame82.jpg\u001b[0m\n",
      "Saved 1 image to \u001b[1mruns/detect/clip01/frame83.jpg\u001b[0m\n",
      "Saved 1 image to \u001b[1mruns/detect/clip01/frame84.jpg\u001b[0m\n",
      "Saved 1 image to \u001b[1mruns/detect/clip01/frame85.jpg\u001b[0m\n",
      "Saved 1 image to \u001b[1mruns/detect/clip01/frame86.jpg\u001b[0m\n",
      "Saved 1 image to \u001b[1mruns/detect/clip01/frame87.jpg\u001b[0m\n",
      "Saved 1 image to \u001b[1mruns/detect/clip01/frame88.jpg\u001b[0m\n",
      "Saved 1 image to \u001b[1mruns/detect/clip01/frame89.jpg\u001b[0m\n",
      "Saved 1 image to \u001b[1mruns/detect/clip01/frame90.jpg\u001b[0m\n",
      "Saved 1 image to \u001b[1mruns/detect/clip01/frame91.jpg\u001b[0m\n",
      "Saved 1 image to \u001b[1mruns/detect/clip01/frame92.jpg\u001b[0m\n",
      "Saved 1 image to \u001b[1mruns/detect/clip01/frame93.jpg\u001b[0m\n",
      "Saved 1 image to \u001b[1mruns/detect/clip01/frame94.jpg\u001b[0m\n",
      "Saved 1 image to \u001b[1mruns/detect/clip01/frame95.jpg\u001b[0m\n",
      "Saved 1 image to \u001b[1mruns/detect/clip01/frame96.jpg\u001b[0m\n",
      "Saved 1 image to \u001b[1mruns/detect/clip01/frame97.jpg\u001b[0m\n",
      "Saved 1 image to \u001b[1mruns/detect/clip01/frame98.jpg\u001b[0m\n",
      "Saved 1 image to \u001b[1mruns/detect/clip01/frame99.jpg\u001b[0m\n",
      "Saved 1 image to \u001b[1mruns/detect/clip01/frame100.jpg\u001b[0m\n",
      "Saved 1 image to \u001b[1mruns/detect/clip01/frame101.jpg\u001b[0m\n",
      "Saved 1 image to \u001b[1mruns/detect/clip01/frame102.jpg\u001b[0m\n",
      "Saved 1 image to \u001b[1mruns/detect/clip01/frame103.jpg\u001b[0m\n",
      "Saved 1 image to \u001b[1mruns/detect/clip01/frame104.jpg\u001b[0m\n",
      "Saved 1 image to \u001b[1mruns/detect/clip01/frame105.jpg\u001b[0m\n",
      "Saved 1 image to \u001b[1mruns/detect/clip01/frame106.jpg\u001b[0m\n",
      "Saved 1 image to \u001b[1mruns/detect/clip01/frame107.jpg\u001b[0m\n",
      "Saved 1 image to \u001b[1mruns/detect/clip01/frame108.jpg\u001b[0m\n",
      "Saved 1 image to \u001b[1mruns/detect/clip01/frame109.jpg\u001b[0m\n",
      "Saved 1 image to \u001b[1mruns/detect/clip01/frame110.jpg\u001b[0m\n",
      "Saved 1 image to \u001b[1mruns/detect/clip01/frame111.jpg\u001b[0m\n",
      "Saved 1 image to \u001b[1mruns/detect/clip01/frame112.jpg\u001b[0m\n",
      "Saved 1 image to \u001b[1mruns/detect/clip01/frame113.jpg\u001b[0m\n",
      "Saved 1 image to \u001b[1mruns/detect/clip01/frame114.jpg\u001b[0m\n",
      "Saved 1 image to \u001b[1mruns/detect/clip01/frame115.jpg\u001b[0m\n",
      "Saved 1 image to \u001b[1mruns/detect/clip01/frame116.jpg\u001b[0m\n",
      "Saved 1 image to \u001b[1mruns/detect/clip01/frame117.jpg\u001b[0m\n",
      "Saved 1 image to \u001b[1mruns/detect/clip01/frame118.jpg\u001b[0m\n",
      "Saved 1 image to \u001b[1mruns/detect/clip01/frame119.jpg\u001b[0m\n",
      "Saved 1 image to \u001b[1mruns/detect/clip01/frame120.jpg\u001b[0m\n",
      "Saved 1 image to \u001b[1mruns/detect/clip01/frame121.jpg\u001b[0m\n",
      "Saved 1 image to \u001b[1mruns/detect/clip01/frame122.jpg\u001b[0m\n",
      "Saved 1 image to \u001b[1mruns/detect/clip01/frame123.jpg\u001b[0m\n",
      "Saved 1 image to \u001b[1mruns/detect/clip01/frame124.jpg\u001b[0m\n",
      "Saved 1 image to \u001b[1mruns/detect/clip01/frame125.jpg\u001b[0m\n",
      "Saved 1 image to \u001b[1mruns/detect/clip01/frame126.jpg\u001b[0m\n",
      "Saved 1 image to \u001b[1mruns/detect/clip01/frame127.jpg\u001b[0m\n",
      "Saved 1 image to \u001b[1mruns/detect/clip01/frame128.jpg\u001b[0m\n",
      "Saved 1 image to \u001b[1mruns/detect/clip01/frame129.jpg\u001b[0m\n",
      "Saved 1 image to \u001b[1mruns/detect/clip01/frame130.jpg\u001b[0m\n",
      "Saved 1 image to \u001b[1mruns/detect/clip01/frame131.jpg\u001b[0m\n",
      "Saved 1 image to \u001b[1mruns/detect/clip01/frame132.jpg\u001b[0m\n",
      "Saved 1 image to \u001b[1mruns/detect/clip01/frame133.jpg\u001b[0m\n",
      "Saved 1 image to \u001b[1mruns/detect/clip01/frame134.jpg\u001b[0m\n",
      "Saved 1 image to \u001b[1mruns/detect/clip01/frame135.jpg\u001b[0m\n",
      "Saved 1 image to \u001b[1mruns/detect/clip01/frame136.jpg\u001b[0m\n",
      "Saved 1 image to \u001b[1mruns/detect/clip01/frame137.jpg\u001b[0m\n",
      "Saved 1 image to \u001b[1mruns/detect/clip01/frame138.jpg\u001b[0m\n",
      "Saved 1 image to \u001b[1mruns/detect/clip01/frame139.jpg\u001b[0m\n",
      "Saved 1 image to \u001b[1mruns/detect/clip01/frame140.jpg\u001b[0m\n",
      "Saved 1 image to \u001b[1mruns/detect/clip01/frame141.jpg\u001b[0m\n",
      "Saved 1 image to \u001b[1mruns/detect/clip01/frame142.jpg\u001b[0m\n"
     ]
    },
    {
     "ename": "KeyboardInterrupt",
     "evalue": "",
     "output_type": "error",
     "traceback": [
      "\u001b[0;31m---------------------------------------------------------------------------\u001b[0m",
      "\u001b[0;31mKeyboardInterrupt\u001b[0m                         Traceback (most recent call last)",
      "Cell \u001b[0;32mIn [24], line 18\u001b[0m\n\u001b[1;32m     15\u001b[0m \u001b[38;5;66;03m# Display the resulting frame\u001b[39;00m\n\u001b[1;32m     16\u001b[0m \u001b[38;5;66;03m# cv2.imshow('Frame',frame)\u001b[39;00m\n\u001b[1;32m     17\u001b[0m cnt \u001b[38;5;241m+\u001b[39m\u001b[38;5;241m=\u001b[39m \u001b[38;5;241m1\u001b[39m\n\u001b[0;32m---> 18\u001b[0m results \u001b[38;5;241m=\u001b[39m \u001b[43mmodel\u001b[49m\u001b[43m(\u001b[49m\u001b[43mframe\u001b[49m\u001b[43m,\u001b[49m\u001b[43m \u001b[49m\u001b[43msize\u001b[49m\u001b[38;5;241;43m=\u001b[39;49m\u001b[38;5;241;43m640\u001b[39;49m\u001b[43m)\u001b[49m  \u001b[38;5;66;03m# includes NMS\u001b[39;00m\n\u001b[1;32m     19\u001b[0m \u001b[38;5;66;03m# results.show()\u001b[39;00m\n\u001b[1;32m     20\u001b[0m fname \u001b[38;5;241m=\u001b[39m \u001b[38;5;124m\"\u001b[39m\u001b[38;5;124m./runs/detect/clip01/frame\u001b[39m\u001b[38;5;124m\"\u001b[39m \u001b[38;5;241m+\u001b[39m \u001b[38;5;28mstr\u001b[39m(cnt) \u001b[38;5;241m+\u001b[39m \u001b[38;5;124m\"\u001b[39m\u001b[38;5;124m.jpg\u001b[39m\u001b[38;5;124m\"\u001b[39m\n",
      "File \u001b[0;32m~/.local/lib/python3.8/site-packages/torch/nn/modules/module.py:1130\u001b[0m, in \u001b[0;36mModule._call_impl\u001b[0;34m(self, *input, **kwargs)\u001b[0m\n\u001b[1;32m   1126\u001b[0m \u001b[38;5;66;03m# If we don't have any hooks, we want to skip the rest of the logic in\u001b[39;00m\n\u001b[1;32m   1127\u001b[0m \u001b[38;5;66;03m# this function, and just call forward.\u001b[39;00m\n\u001b[1;32m   1128\u001b[0m \u001b[38;5;28;01mif\u001b[39;00m \u001b[38;5;129;01mnot\u001b[39;00m (\u001b[38;5;28mself\u001b[39m\u001b[38;5;241m.\u001b[39m_backward_hooks \u001b[38;5;129;01mor\u001b[39;00m \u001b[38;5;28mself\u001b[39m\u001b[38;5;241m.\u001b[39m_forward_hooks \u001b[38;5;129;01mor\u001b[39;00m \u001b[38;5;28mself\u001b[39m\u001b[38;5;241m.\u001b[39m_forward_pre_hooks \u001b[38;5;129;01mor\u001b[39;00m _global_backward_hooks\n\u001b[1;32m   1129\u001b[0m         \u001b[38;5;129;01mor\u001b[39;00m _global_forward_hooks \u001b[38;5;129;01mor\u001b[39;00m _global_forward_pre_hooks):\n\u001b[0;32m-> 1130\u001b[0m     \u001b[38;5;28;01mreturn\u001b[39;00m \u001b[43mforward_call\u001b[49m\u001b[43m(\u001b[49m\u001b[38;5;241;43m*\u001b[39;49m\u001b[38;5;28;43minput\u001b[39;49m\u001b[43m,\u001b[49m\u001b[43m \u001b[49m\u001b[38;5;241;43m*\u001b[39;49m\u001b[38;5;241;43m*\u001b[39;49m\u001b[43mkwargs\u001b[49m\u001b[43m)\u001b[49m\n\u001b[1;32m   1131\u001b[0m \u001b[38;5;66;03m# Do not call functions when jit is used\u001b[39;00m\n\u001b[1;32m   1132\u001b[0m full_backward_hooks, non_full_backward_hooks \u001b[38;5;241m=\u001b[39m [], []\n",
      "File \u001b[0;32m~/.local/lib/python3.8/site-packages/torch/autograd/grad_mode.py:27\u001b[0m, in \u001b[0;36m_DecoratorContextManager.__call__.<locals>.decorate_context\u001b[0;34m(*args, **kwargs)\u001b[0m\n\u001b[1;32m     24\u001b[0m \u001b[38;5;129m@functools\u001b[39m\u001b[38;5;241m.\u001b[39mwraps(func)\n\u001b[1;32m     25\u001b[0m \u001b[38;5;28;01mdef\u001b[39;00m \u001b[38;5;21mdecorate_context\u001b[39m(\u001b[38;5;241m*\u001b[39margs, \u001b[38;5;241m*\u001b[39m\u001b[38;5;241m*\u001b[39mkwargs):\n\u001b[1;32m     26\u001b[0m     \u001b[38;5;28;01mwith\u001b[39;00m \u001b[38;5;28mself\u001b[39m\u001b[38;5;241m.\u001b[39mclone():\n\u001b[0;32m---> 27\u001b[0m         \u001b[38;5;28;01mreturn\u001b[39;00m \u001b[43mfunc\u001b[49m\u001b[43m(\u001b[49m\u001b[38;5;241;43m*\u001b[39;49m\u001b[43margs\u001b[49m\u001b[43m,\u001b[49m\u001b[43m \u001b[49m\u001b[38;5;241;43m*\u001b[39;49m\u001b[38;5;241;43m*\u001b[39;49m\u001b[43mkwargs\u001b[49m\u001b[43m)\u001b[49m\n",
      "File \u001b[0;32m~/thesis/notebooks/../yolov5/models/common.py:664\u001b[0m, in \u001b[0;36mAutoShape.forward\u001b[0;34m(self, ims, size, augment, profile)\u001b[0m\n\u001b[1;32m    661\u001b[0m \u001b[38;5;28;01mwith\u001b[39;00m amp\u001b[38;5;241m.\u001b[39mautocast(autocast):\n\u001b[1;32m    662\u001b[0m     \u001b[38;5;66;03m# Inference\u001b[39;00m\n\u001b[1;32m    663\u001b[0m     \u001b[38;5;28;01mwith\u001b[39;00m dt[\u001b[38;5;241m1\u001b[39m]:\n\u001b[0;32m--> 664\u001b[0m         y \u001b[38;5;241m=\u001b[39m \u001b[38;5;28;43mself\u001b[39;49m\u001b[38;5;241;43m.\u001b[39;49m\u001b[43mmodel\u001b[49m\u001b[43m(\u001b[49m\u001b[43mx\u001b[49m\u001b[43m,\u001b[49m\u001b[43m \u001b[49m\u001b[43maugment\u001b[49m\u001b[43m,\u001b[49m\u001b[43m \u001b[49m\u001b[43mprofile\u001b[49m\u001b[43m)\u001b[49m  \u001b[38;5;66;03m# forward\u001b[39;00m\n\u001b[1;32m    666\u001b[0m     \u001b[38;5;66;03m# Post-process\u001b[39;00m\n\u001b[1;32m    667\u001b[0m     \u001b[38;5;28;01mwith\u001b[39;00m dt[\u001b[38;5;241m2\u001b[39m]:\n",
      "File \u001b[0;32m~/.local/lib/python3.8/site-packages/torch/nn/modules/module.py:1130\u001b[0m, in \u001b[0;36mModule._call_impl\u001b[0;34m(self, *input, **kwargs)\u001b[0m\n\u001b[1;32m   1126\u001b[0m \u001b[38;5;66;03m# If we don't have any hooks, we want to skip the rest of the logic in\u001b[39;00m\n\u001b[1;32m   1127\u001b[0m \u001b[38;5;66;03m# this function, and just call forward.\u001b[39;00m\n\u001b[1;32m   1128\u001b[0m \u001b[38;5;28;01mif\u001b[39;00m \u001b[38;5;129;01mnot\u001b[39;00m (\u001b[38;5;28mself\u001b[39m\u001b[38;5;241m.\u001b[39m_backward_hooks \u001b[38;5;129;01mor\u001b[39;00m \u001b[38;5;28mself\u001b[39m\u001b[38;5;241m.\u001b[39m_forward_hooks \u001b[38;5;129;01mor\u001b[39;00m \u001b[38;5;28mself\u001b[39m\u001b[38;5;241m.\u001b[39m_forward_pre_hooks \u001b[38;5;129;01mor\u001b[39;00m _global_backward_hooks\n\u001b[1;32m   1129\u001b[0m         \u001b[38;5;129;01mor\u001b[39;00m _global_forward_hooks \u001b[38;5;129;01mor\u001b[39;00m _global_forward_pre_hooks):\n\u001b[0;32m-> 1130\u001b[0m     \u001b[38;5;28;01mreturn\u001b[39;00m \u001b[43mforward_call\u001b[49m\u001b[43m(\u001b[49m\u001b[38;5;241;43m*\u001b[39;49m\u001b[38;5;28;43minput\u001b[39;49m\u001b[43m,\u001b[49m\u001b[43m \u001b[49m\u001b[38;5;241;43m*\u001b[39;49m\u001b[38;5;241;43m*\u001b[39;49m\u001b[43mkwargs\u001b[49m\u001b[43m)\u001b[49m\n\u001b[1;32m   1131\u001b[0m \u001b[38;5;66;03m# Do not call functions when jit is used\u001b[39;00m\n\u001b[1;32m   1132\u001b[0m full_backward_hooks, non_full_backward_hooks \u001b[38;5;241m=\u001b[39m [], []\n",
      "File \u001b[0;32m~/thesis/notebooks/../yolov5/models/common.py:482\u001b[0m, in \u001b[0;36mDetectMultiBackend.forward\u001b[0;34m(self, im, augment, visualize)\u001b[0m\n\u001b[1;32m    479\u001b[0m     im \u001b[38;5;241m=\u001b[39m im\u001b[38;5;241m.\u001b[39mhalf()  \u001b[38;5;66;03m# to FP16\u001b[39;00m\n\u001b[1;32m    481\u001b[0m \u001b[38;5;28;01mif\u001b[39;00m \u001b[38;5;28mself\u001b[39m\u001b[38;5;241m.\u001b[39mpt:  \u001b[38;5;66;03m# PyTorch\u001b[39;00m\n\u001b[0;32m--> 482\u001b[0m     y \u001b[38;5;241m=\u001b[39m \u001b[38;5;28mself\u001b[39m\u001b[38;5;241m.\u001b[39mmodel(im, augment\u001b[38;5;241m=\u001b[39maugment, visualize\u001b[38;5;241m=\u001b[39mvisualize) \u001b[38;5;28;01mif\u001b[39;00m augment \u001b[38;5;129;01mor\u001b[39;00m visualize \u001b[38;5;28;01melse\u001b[39;00m \u001b[38;5;28;43mself\u001b[39;49m\u001b[38;5;241;43m.\u001b[39;49m\u001b[43mmodel\u001b[49m\u001b[43m(\u001b[49m\u001b[43mim\u001b[49m\u001b[43m)\u001b[49m\n\u001b[1;32m    483\u001b[0m \u001b[38;5;28;01melif\u001b[39;00m \u001b[38;5;28mself\u001b[39m\u001b[38;5;241m.\u001b[39mjit:  \u001b[38;5;66;03m# TorchScript\u001b[39;00m\n\u001b[1;32m    484\u001b[0m     y \u001b[38;5;241m=\u001b[39m \u001b[38;5;28mself\u001b[39m\u001b[38;5;241m.\u001b[39mmodel(im)\n",
      "File \u001b[0;32m~/.local/lib/python3.8/site-packages/torch/nn/modules/module.py:1130\u001b[0m, in \u001b[0;36mModule._call_impl\u001b[0;34m(self, *input, **kwargs)\u001b[0m\n\u001b[1;32m   1126\u001b[0m \u001b[38;5;66;03m# If we don't have any hooks, we want to skip the rest of the logic in\u001b[39;00m\n\u001b[1;32m   1127\u001b[0m \u001b[38;5;66;03m# this function, and just call forward.\u001b[39;00m\n\u001b[1;32m   1128\u001b[0m \u001b[38;5;28;01mif\u001b[39;00m \u001b[38;5;129;01mnot\u001b[39;00m (\u001b[38;5;28mself\u001b[39m\u001b[38;5;241m.\u001b[39m_backward_hooks \u001b[38;5;129;01mor\u001b[39;00m \u001b[38;5;28mself\u001b[39m\u001b[38;5;241m.\u001b[39m_forward_hooks \u001b[38;5;129;01mor\u001b[39;00m \u001b[38;5;28mself\u001b[39m\u001b[38;5;241m.\u001b[39m_forward_pre_hooks \u001b[38;5;129;01mor\u001b[39;00m _global_backward_hooks\n\u001b[1;32m   1129\u001b[0m         \u001b[38;5;129;01mor\u001b[39;00m _global_forward_hooks \u001b[38;5;129;01mor\u001b[39;00m _global_forward_pre_hooks):\n\u001b[0;32m-> 1130\u001b[0m     \u001b[38;5;28;01mreturn\u001b[39;00m \u001b[43mforward_call\u001b[49m\u001b[43m(\u001b[49m\u001b[38;5;241;43m*\u001b[39;49m\u001b[38;5;28;43minput\u001b[39;49m\u001b[43m,\u001b[49m\u001b[43m \u001b[49m\u001b[38;5;241;43m*\u001b[39;49m\u001b[38;5;241;43m*\u001b[39;49m\u001b[43mkwargs\u001b[49m\u001b[43m)\u001b[49m\n\u001b[1;32m   1131\u001b[0m \u001b[38;5;66;03m# Do not call functions when jit is used\u001b[39;00m\n\u001b[1;32m   1132\u001b[0m full_backward_hooks, non_full_backward_hooks \u001b[38;5;241m=\u001b[39m [], []\n",
      "File \u001b[0;32m~/thesis/notebooks/../yolov5/models/yolo.py:189\u001b[0m, in \u001b[0;36mDetectionModel.forward\u001b[0;34m(self, x, augment, profile, visualize)\u001b[0m\n\u001b[1;32m    187\u001b[0m \u001b[38;5;28;01mif\u001b[39;00m augment:\n\u001b[1;32m    188\u001b[0m     \u001b[38;5;28;01mreturn\u001b[39;00m \u001b[38;5;28mself\u001b[39m\u001b[38;5;241m.\u001b[39m_forward_augment(x)  \u001b[38;5;66;03m# augmented inference, None\u001b[39;00m\n\u001b[0;32m--> 189\u001b[0m \u001b[38;5;28;01mreturn\u001b[39;00m \u001b[38;5;28;43mself\u001b[39;49m\u001b[38;5;241;43m.\u001b[39;49m\u001b[43m_forward_once\u001b[49m\u001b[43m(\u001b[49m\u001b[43mx\u001b[49m\u001b[43m,\u001b[49m\u001b[43m \u001b[49m\u001b[43mprofile\u001b[49m\u001b[43m,\u001b[49m\u001b[43m \u001b[49m\u001b[43mvisualize\u001b[49m\u001b[43m)\u001b[49m\n",
      "File \u001b[0;32m~/thesis/notebooks/../yolov5/models/yolo.py:102\u001b[0m, in \u001b[0;36mBaseModel._forward_once\u001b[0;34m(self, x, profile, visualize)\u001b[0m\n\u001b[1;32m    100\u001b[0m \u001b[38;5;28;01mif\u001b[39;00m profile:\n\u001b[1;32m    101\u001b[0m     \u001b[38;5;28mself\u001b[39m\u001b[38;5;241m.\u001b[39m_profile_one_layer(m, x, dt)\n\u001b[0;32m--> 102\u001b[0m x \u001b[38;5;241m=\u001b[39m \u001b[43mm\u001b[49m\u001b[43m(\u001b[49m\u001b[43mx\u001b[49m\u001b[43m)\u001b[49m  \u001b[38;5;66;03m# run\u001b[39;00m\n\u001b[1;32m    103\u001b[0m y\u001b[38;5;241m.\u001b[39mappend(x \u001b[38;5;28;01mif\u001b[39;00m m\u001b[38;5;241m.\u001b[39mi \u001b[38;5;129;01min\u001b[39;00m \u001b[38;5;28mself\u001b[39m\u001b[38;5;241m.\u001b[39msave \u001b[38;5;28;01melse\u001b[39;00m \u001b[38;5;28;01mNone\u001b[39;00m)  \u001b[38;5;66;03m# save output\u001b[39;00m\n\u001b[1;32m    104\u001b[0m \u001b[38;5;28;01mif\u001b[39;00m visualize:\n",
      "File \u001b[0;32m~/.local/lib/python3.8/site-packages/torch/nn/modules/module.py:1130\u001b[0m, in \u001b[0;36mModule._call_impl\u001b[0;34m(self, *input, **kwargs)\u001b[0m\n\u001b[1;32m   1126\u001b[0m \u001b[38;5;66;03m# If we don't have any hooks, we want to skip the rest of the logic in\u001b[39;00m\n\u001b[1;32m   1127\u001b[0m \u001b[38;5;66;03m# this function, and just call forward.\u001b[39;00m\n\u001b[1;32m   1128\u001b[0m \u001b[38;5;28;01mif\u001b[39;00m \u001b[38;5;129;01mnot\u001b[39;00m (\u001b[38;5;28mself\u001b[39m\u001b[38;5;241m.\u001b[39m_backward_hooks \u001b[38;5;129;01mor\u001b[39;00m \u001b[38;5;28mself\u001b[39m\u001b[38;5;241m.\u001b[39m_forward_hooks \u001b[38;5;129;01mor\u001b[39;00m \u001b[38;5;28mself\u001b[39m\u001b[38;5;241m.\u001b[39m_forward_pre_hooks \u001b[38;5;129;01mor\u001b[39;00m _global_backward_hooks\n\u001b[1;32m   1129\u001b[0m         \u001b[38;5;129;01mor\u001b[39;00m _global_forward_hooks \u001b[38;5;129;01mor\u001b[39;00m _global_forward_pre_hooks):\n\u001b[0;32m-> 1130\u001b[0m     \u001b[38;5;28;01mreturn\u001b[39;00m \u001b[43mforward_call\u001b[49m\u001b[43m(\u001b[49m\u001b[38;5;241;43m*\u001b[39;49m\u001b[38;5;28;43minput\u001b[39;49m\u001b[43m,\u001b[49m\u001b[43m \u001b[49m\u001b[38;5;241;43m*\u001b[39;49m\u001b[38;5;241;43m*\u001b[39;49m\u001b[43mkwargs\u001b[49m\u001b[43m)\u001b[49m\n\u001b[1;32m   1131\u001b[0m \u001b[38;5;66;03m# Do not call functions when jit is used\u001b[39;00m\n\u001b[1;32m   1132\u001b[0m full_backward_hooks, non_full_backward_hooks \u001b[38;5;241m=\u001b[39m [], []\n",
      "\u001b[0;31mKeyboardInterrupt\u001b[0m: "
     ]
    }
   ],
   "source": [
    "start = time.time()\n",
    "cap = cv2.VideoCapture(\"./sample_video_01_cut.mp4\")\n",
    "cnt = 0\n",
    "# Check if camera opened successfully\n",
    "if (cap.isOpened()== False): \n",
    "  print(\"Error opening video stream or file\")\n",
    "\n",
    "# Read until video is completed\n",
    "while(cap.isOpened()):\n",
    "  # Capture frame-by-frame\n",
    "  ret, frame = cap.read()\n",
    "  if ret == True:\n",
    "    frame = frame[:, :, ::-1]  # OpenCV image (BGR to RGB)\n",
    "\n",
    "    # Display the resulting frame\n",
    "    # cv2.imshow('Frame',frame)\n",
    "    cnt += 1\n",
    "    results = model(frame, size=640)  # includes NMS\n",
    "    # results.show()\n",
    "    fname = \"./runs/detect/clip01/frame\" + str(cnt) + \".jpg\"\n",
    "    results.save(save_dir=fname)\n",
    "    # Press Q on keyboard to  exit\n",
    "    if cv2.waitKey(25) & 0xFF == ord('q'):\n",
    "      break\n",
    "\n",
    "  # Break the loop\n",
    "  else: \n",
    "    break\n",
    "\n",
    "# When everything done, release the video capture object\n",
    "print(\"Total Frames: \" + str(cnt))\n",
    "cap.release()\n",
    "end = time.time()\n",
    "elapsed_time = end-start\n",
    "print(\"Elapsed Time: \", elapsed_time)\n"
   ]
  },
  {
   "cell_type": "code",
   "execution_count": null,
   "id": "7a2c4d0a-4804-4485-a7c3-525c16ecbb97",
   "metadata": {},
   "outputs": [],
   "source": []
  }
 ],
 "metadata": {
  "kernelspec": {
   "display_name": "Python 3 (ipykernel)",
   "language": "python",
   "name": "python3"
  },
  "language_info": {
   "codemirror_mode": {
    "name": "ipython",
    "version": 3
   },
   "file_extension": ".py",
   "mimetype": "text/x-python",
   "name": "python",
   "nbconvert_exporter": "python",
   "pygments_lexer": "ipython3",
   "version": "3.8.10"
  }
 },
 "nbformat": 4,
 "nbformat_minor": 5
}
