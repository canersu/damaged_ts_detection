{
 "cells": [
  {
   "cell_type": "code",
   "execution_count": 1,
   "id": "fb53eef4-c697-4ae2-b77c-e356f34323e3",
   "metadata": {},
   "outputs": [],
   "source": [
    "import shutil\n",
    "from PIL import Image\n",
    "import os"
   ]
  },
  {
   "cell_type": "code",
   "execution_count": 2,
   "id": "c8dfea95-dd99-4c6a-b949-855db57f1fba",
   "metadata": {},
   "outputs": [],
   "source": [
    "def crop_train(base_path='../gtsrb/', dst='cropped_train', ds_type=\"Train\"):\n",
    "    if ds_type == \"Train\":\n",
    "        shutil.copytree(base_path+'Train', base_path+dst)\n",
    "    with open(base_path+ds_type+\".csv\") as f:\n",
    "        for line in f.readlines():\n",
    "            path = line.strip().split(',')[7]\n",
    "            if path == \"Path\":\n",
    "                pass\n",
    "            else:\n",
    "                x1 = int(line.strip().split(',')[2])\n",
    "                y1 = int(line.strip().split(',')[3])\n",
    "                x2 = int(line.strip().split(',')[4])\n",
    "                y2 = int(line.strip().split(',')[5])\n",
    "                class_id = line.strip().split(',')[6]\n",
    "                fname = path.split('/')[-1]\n",
    "\n",
    "                # print(path+\" is processing !!!\")\n",
    "                image = Image.open(base_path+path)\n",
    "                # print(image)\n",
    "                # print(fname)\n",
    "                cropped = image.crop((x1,y1,x2,y2))\n",
    "                cropped.save(base_path+dst+\"/\"+class_id+\"/\"+fname)"
   ]
  },
  {
   "cell_type": "code",
   "execution_count": 22,
   "id": "41bc0bbc-2433-48e7-ada5-cbaec2392ac8",
   "metadata": {},
   "outputs": [],
   "source": [
    "crop_train()"
   ]
  },
  {
   "cell_type": "code",
   "execution_count": 4,
   "id": "ccd9f693-fe27-4c67-be39-2336d39d74d5",
   "metadata": {},
   "outputs": [],
   "source": [
    "crop_train(base_path=\"/home/can/thesis/gtsrb/\", dst=\"damaged_signs\", ds_type=\"Test\")"
   ]
  },
  {
   "cell_type": "code",
   "execution_count": 3,
   "id": "c8a90b9b-a806-4400-b689-1747e4c12ebf",
   "metadata": {},
   "outputs": [],
   "source": [
    "import shutil\n",
    "from PIL import Image\n",
    "\n",
    "def cropROI(base_path='../gtsrb/', dst='cropped_train', ds_type='Train'):\n",
    "    if ds_type == \"Train\":\n",
    "        # Copy all the images and folders of to the dst path\n",
    "        shutil.copytree(base_path+'Train', base_path+dst)\n",
    "    with open(base_path+ds_type+\".csv\") as f:\n",
    "        for line in f.readlines():\n",
    "            path = line.strip().split(',')[7]\n",
    "            # Skip the first line which consists of header names\n",
    "            if path == \"Path\":\n",
    "                pass\n",
    "            else:\n",
    "                x1 = int(line.strip().split(',')[2])\n",
    "                y1 = int(line.strip().split(',')[3])\n",
    "                x2 = int(line.strip().split(',')[4])\n",
    "                y2 = int(line.strip().split(',')[5])\n",
    "                class_id = line.strip().split(',')[6]\n",
    "                fname = path.split('/')[-1]\n",
    "\n",
    "\n",
    "                image = Image.open(base_path+path)\n",
    "                cropped = image.crop((x1,y1,x2,y2))\n",
    "                cropped.save(base_path+dst+\"/\"+class_id+\"/\"+fname)\n",
    "\n",
    "\n"
   ]
  },
  {
   "cell_type": "code",
   "execution_count": 4,
   "id": "6b39f57d",
   "metadata": {},
   "outputs": [],
   "source": [
    "for i in range(43):\n",
    "    os.mkdir(\"/home/can/desktop_thesis/gtsrb/damaged_signs/\"+str(i)+\"/\")"
   ]
  },
  {
   "cell_type": "code",
   "execution_count": 6,
   "id": "560c1f90",
   "metadata": {},
   "outputs": [],
   "source": [
    "crop_train(base_path=\"/home/can/desktop_thesis/gtsrb/\", dst=\"damaged_signs\", ds_type=\"Test\")"
   ]
  },
  {
   "cell_type": "code",
   "execution_count": null,
   "id": "c401e89a",
   "metadata": {},
   "outputs": [],
   "source": []
  }
 ],
 "metadata": {
  "kernelspec": {
   "display_name": "Python 3.8.10 64-bit",
   "language": "python",
   "name": "python3"
  },
  "language_info": {
   "codemirror_mode": {
    "name": "ipython",
    "version": 3
   },
   "file_extension": ".py",
   "mimetype": "text/x-python",
   "name": "python",
   "nbconvert_exporter": "python",
   "pygments_lexer": "ipython3",
   "version": "3.8.10"
  },
  "vscode": {
   "interpreter": {
    "hash": "916dbcbb3f70747c44a77c7bcd40155683ae19c65e1c03b4aa3499c5328201f1"
   }
  }
 },
 "nbformat": 4,
 "nbformat_minor": 5
}
